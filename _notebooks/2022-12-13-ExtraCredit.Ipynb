{
 "cells": [
  {
   "attachments": {},
   "cell_type": "markdown",
   "metadata": {},
   "source": [
    "# Notes on Kathyleen Beveridge\n",
    "\n",
    "-Wells Fargo Nikko Securities employed her as an investment advisor from 1995 to 1996. \n",
    "\n",
    "-She started her career as a stock broker, but decided to go back to school and switch careers. \n",
    "\n",
    "-She landed her first high-tech job at HP in San Diego, and later became a Senior Manager of Sales Operations and Director of Global Sales at Qualcomm. \n",
    "\n",
    "-She then moved to ThermoFisher as a Senior Director of Marketing.\n",
    "\n",
    "-She has a background in biotechnology and is known for her expertise in predicting customer demand before they place orders. \n",
    "\n",
    "-She enjoys working with people from all backgrounds and is known for her unique ability to anticipate customer needs.\n",
    "\n",
    "-MVA at USC\n",
    "\n",
    "-HP: Develop technology that improves everyone's quality of life\n",
    "\n",
    "-Qualcomm: Creating technology for everyone\n",
    "\n",
    "-In the world, 99% of smartphones used Qualcomm chips.\n",
    "\n",
    "-Qualcomm affects a billion people every day.\n",
    "\n",
    "-Thermo Fisher Scientific: Helping people around the world live better, safer lives\n",
    "\n",
    "-100,000 coworkers\n",
    "\n",
    "-7000 researchers and engineers\n",
    "\n",
    "-40 billion in sales with 1.5 billion invested in R&D\n",
    "\n",
    "-Because they all employ technology to benefit and assist people, they are all comparable."
   ]
  },
  {
   "attachments": {},
   "cell_type": "markdown",
   "metadata": {},
   "source": [
    "# Notes on Kris Porter\n",
    "\n",
    "-Software developer - SRE, DevOps engineer, Infrastructure engineer\n",
    "\n",
    "-There were no CS classes when he started\n",
    "\n",
    "-First cs class was 2nd quarter of some year in college\n",
    "\n",
    "-Graduated in 2008\n",
    "\n",
    "-UCLA\n",
    "\n",
    "-NBC Universal, Infrastructure for streaming media\n",
    "\n",
    "-Twitter\n",
    "\n",
    "Most of the staff was fired, and remote workers like him were fired\n",
    "\n",
    "-An attractive skill\n",
    "\n",
    "Project for Research: Internet of Things\n",
    "\n",
    "-Deployed robot somewhere in the world\n",
    "\n",
    "Swings in a tree and takes biological readings—Costa Rica"
   ]
  },
  {
   "attachments": {},
   "cell_type": "markdown",
   "metadata": {},
   "source": [
    "Notes on Questions Asked By Students\n",
    "\n",
    "-Technical perspective, different companies have their own version of agile, they use it depending on what they need\n",
    "\n",
    "-Qualcomm (150 engineers, interacted with each other, planned all of work for the quarter in a big meeting that last today)\n",
    "\n",
    "-Agile is important\n",
    "\n",
    "-Gone are the days where projects take 6 months\n",
    "\n",
    "-What can we do in shorter time periods?\n",
    "\n",
    "-Skillset is highly regarding"
   ]
  }
 ],
 "metadata": {
  "language_info": {
   "name": "python"
  },
  "orig_nbformat": 4
 },
 "nbformat": 4,
 "nbformat_minor": 2
}
