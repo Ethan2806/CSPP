{
 "cells": [
  {
   "cell_type": "markdown",
   "metadata": {},
   "source": [
    "# Conditionals\n",
    "-Selection determines which part of an algorithm are executed based on a condition being true of false\n",
    "    -Selection also allows you to choose different outcomes based off the result of a condition or a decision\n",
    "-An alogirthm is a finite set of instructions that accomplish a specific task \n",
    "    -They consist of combinations of sequencing, selections, and iteration\n",
    "\n",
    "-Conditionals statements are also known as \"if statements\""
   ]
  },
  {
   "cell_type": "code",
   "execution_count": 28,
   "metadata": {},
   "outputs": [
    {
     "name": "stdout",
     "output_type": "stream",
     "text": [
      "Number1 is greater than Number2\n"
     ]
    }
   ],
   "source": [
    "Number1 = 20\n",
    "Number2 = 10\n",
    "if Number1 > Number2:\n",
    "    print(\"Number1 is greater than Number2\")\n"
   ]
  },
  {
   "cell_type": "markdown",
   "metadata": {},
   "source": [
    "-Conditional statements may also be called if else statements "
   ]
  },
  {
   "cell_type": "code",
   "execution_count": 29,
   "metadata": {},
   "outputs": [
    {
     "name": "stdout",
     "output_type": "stream",
     "text": [
      "Number1 is greater than Number2\n"
     ]
    }
   ],
   "source": [
    "Number1 = 20\n",
    "Number2 = 10\n",
    "if Number1 > Number2:\n",
    "    print(\"Number1 is greater than Number2\")\n",
    "else:\n",
    "    print(\"Number2 is less than Number1\")"
   ]
  },
  {
   "cell_type": "markdown",
   "metadata": {},
   "source": [
    "# Participation \n",
    "\n",
    "-Calculate the total sum of two numbers, if the total sum is greater than 200, display 200. if otherwise, display the sum."
   ]
  },
  {
   "cell_type": "code",
   "execution_count": 51,
   "metadata": {},
   "outputs": [
    {
     "data": {
      "text/plain": [
       "200"
      ]
     },
     "metadata": {},
     "output_type": "display_data"
    }
   ],
   "source": [
    "num1 = 100\n",
    "num2 = 100\n",
    "sum = num1 + num2\n",
    "if sum>200:\n",
    "    {\n",
    "    display (200)\n",
    "}\n",
    "else:\n",
    "    {\n",
    "    print(sum)\n",
    "}"
   ]
  },
  {
   "cell_type": "code",
   "execution_count": 52,
   "metadata": {},
   "outputs": [
    {
     "data": {
      "text/plain": [
       "12"
      ]
     },
     "metadata": {},
     "output_type": "display_data"
    },
    {
     "data": {
      "text/plain": [
       "31"
      ]
     },
     "metadata": {},
     "output_type": "display_data"
    },
    {
     "data": {
      "text/plain": [
       "28"
      ]
     },
     "metadata": {},
     "output_type": "display_data"
    }
   ],
   "source": [
    "numb1 = 12\n",
    "numb2 = 31\n",
    "numb3 = 28\n",
    "if numb1 > numb3:\n",
    "    {\n",
    "    display (numb1 = numb2 + numb3)\n",
    "}\n",
    "else:\n",
    "    {\n",
    "    display (num1 = (numb3 * 2) / 4)\n",
    "}\n",
    "display (numb1)\n",
    "display (numb2)\n",
    "display (numb3)"
   ]
  }
 ],
 "metadata": {
  "kernelspec": {
   "display_name": "Python 3.8.10 64-bit",
   "language": "python",
   "name": "python3"
  },
  "language_info": {
   "codemirror_mode": {
    "name": "ipython",
    "version": 3
   },
   "file_extension": ".py",
   "mimetype": "text/x-python",
   "name": "python",
   "nbconvert_exporter": "python",
   "pygments_lexer": "ipython3",
   "version": "3.8.10"
  },
  "orig_nbformat": 4,
  "vscode": {
   "interpreter": {
    "hash": "916dbcbb3f70747c44a77c7bcd40155683ae19c65e1c03b4aa3499c5328201f1"
   }
  }
 },
 "nbformat": 4,
 "nbformat_minor": 2
}
