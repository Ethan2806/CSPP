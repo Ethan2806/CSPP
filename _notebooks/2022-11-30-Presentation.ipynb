{
 "cells": [
  {
   "cell_type": "markdown",
   "metadata": {},
   "source": [
    "# Conditionals\n",
    "-Selection determines which part of an algorithm are executed based on a condition being true of false\n",
    "\n",
    "    -Selection also allows you to choose different outcomes based off the result of a condition or a decision\n",
    "\n",
    "-An alogirthm is a finite set of instructions that accomplish a specific task \n",
    "\n",
    "    -They consist of combinations of sequencing, selections, and iteration\n",
    "\n",
    "-Conditionals statements are also known as \"if statements\""
   ]
  },
  {
   "cell_type": "markdown",
   "metadata": {},
   "source": [
    "## Focusing on Selection\n",
    "Selection uses a condition that evaluates if it is <i>true<i> or <i>false<i>\n",
    "![image](https://user-images.githubusercontent.com/111910633/204900101-72f2ee6b-32db-414e-97fd-72d3d5d3d746.png)"
   ]
  },
  {
   "cell_type": "markdown",
   "metadata": {},
   "source": [
    "# Conditional Statements\n",
    "Also known as \"if statements\"\n",
    "\n",
    "![image](https://user-images.githubusercontent.com/111910633/204899553-749ae358-ea03-4614-b21f-8a72005e9778.png)\n"
   ]
  },
  {
   "cell_type": "code",
   "execution_count": 28,
   "metadata": {},
   "outputs": [
    {
     "name": "stdout",
     "output_type": "stream",
     "text": [
      "Number1 is greater than Number2\n"
     ]
    }
   ],
   "source": [
    "Number1 = 20\n",
    "Number2 = 10\n",
    "if Number1 > Number2:\n",
    "    print(\"Number1 is greater than Number2\")\n"
   ]
  },
  {
   "cell_type": "markdown",
   "metadata": {},
   "source": [
    "-Conditional statements may also be called if else statements \n",
    "![image](https://user-images.githubusercontent.com/111910633/204899617-9536a6bc-d3e7-40ed-bf7d-c560878d6635.png)\n"
   ]
  },
  {
   "cell_type": "code",
   "execution_count": 29,
   "metadata": {},
   "outputs": [
    {
     "name": "stdout",
     "output_type": "stream",
     "text": [
      "Number1 is greater than Number2\n"
     ]
    }
   ],
   "source": [
    "Number1 = 20\n",
    "Number2 = 10\n",
    "if Number1 > Number2:\n",
    "    print(\"Number1 is greater than Number2\")\n",
    "else:\n",
    "    print(\"Number2 is less than Number1\")"
   ]
  },
  {
   "cell_type": "markdown",
   "metadata": {},
   "source": [
    "# Participation \n",
    "\n",
    "-Calculate the total sum of two numbers, if the total sum is greater than 200, display 200. if otherwise, display the sum."
   ]
  },
  {
   "cell_type": "code",
   "execution_count": 62,
   "metadata": {},
   "outputs": [
    {
     "name": "stdout",
     "output_type": "stream",
     "text": [
      "200\n"
     ]
    }
   ],
   "source": [
    "num1 = 100\n",
    "num2 = 250\n",
    "sum = num1 + num2\n",
    "if sum>200:\n",
    "    {\n",
    "    print(200)\n",
    "    }\n",
    "else:\n",
    "    {\n",
    "    display(sum)\n",
    "}"
   ]
  },
  {
   "cell_type": "code",
   "execution_count": 63,
   "metadata": {},
   "outputs": [
    {
     "data": {
      "text/plain": [
       "12"
      ]
     },
     "metadata": {},
     "output_type": "display_data"
    },
    {
     "data": {
      "text/plain": [
       "31"
      ]
     },
     "metadata": {},
     "output_type": "display_data"
    },
    {
     "data": {
      "text/plain": [
       "28"
      ]
     },
     "metadata": {},
     "output_type": "display_data"
    }
   ],
   "source": [
    "numb1 = 12\n",
    "numb2 = 31\n",
    "numb3 = 28\n",
    "if numb1 > numb3:\n",
    "    {\n",
    "    display (numb1 = numb2 + numb3)\n",
    "}\n",
    "else:\n",
    "    {\n",
    "    display (num1 = (numb3 * 2) / 4)\n",
    "}\n",
    "display (numb1)\n",
    "display (numb2)\n",
    "display (numb3)"
   ]
  }
 ],
 "metadata": {
  "kernelspec": {
   "display_name": "Python 3.8.10 64-bit",
   "language": "python",
   "name": "python3"
  },
  "language_info": {
   "codemirror_mode": {
    "name": "ipython",
    "version": 3
   },
   "file_extension": ".py",
   "mimetype": "text/x-python",
   "name": "python",
   "nbconvert_exporter": "python",
   "pygments_lexer": "ipython3",
   "version": "3.8.10"
  },
  "orig_nbformat": 4,
  "vscode": {
   "interpreter": {
    "hash": "916dbcbb3f70747c44a77c7bcd40155683ae19c65e1c03b4aa3499c5328201f1"
   }
  }
 },
 "nbformat": 4,
 "nbformat_minor": 2
}
