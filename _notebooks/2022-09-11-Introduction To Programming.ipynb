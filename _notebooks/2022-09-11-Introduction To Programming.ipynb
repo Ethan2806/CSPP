{
 "cells": [
  {
   "cell_type": "markdown",
   "metadata": {},
   "source": [
    "# App Lab Notes\n",
    "---\n",
    "- title: App Lab Notes\n",
    "- toc: true\n",
    "- comments: true\n",
    "- categories: [Coding]\n",
    "---"
   ]
  },
  {
   "cell_type": "markdown",
   "metadata": {},
   "source": [
    "# Notes\n",
    "- My test will be on Actors in Movies\n",
    "- The code On Event will be used for most of everything that we do\n",
    "- We will be using the term score for the questions we get right, and the ones we get wrong\n",
   "\n",
    "# What my questions will be:\n",
       "- Who plays Captain America?\n",
    "- Who plays Black Panther?\n",
    "- Who plays Iron Man?\n",
    "\n",
    "## "
   ]
  }
 ],
 "metadata": {
  "language_info": {
   "name": "python"
  },
  "orig_nbformat": 4
 },
 "nbformat": 4,
 "nbformat_minor": 2
}
