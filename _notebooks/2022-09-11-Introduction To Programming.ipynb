{
 "cells": [
  {
   "cell_type": "markdown",
   "metadata": {},
   "source": [
    "# App Lab Notes\n",
    "---\n",
    "- title: App Lab Idea\n",
    "- toc: true\n",
    "- comments: true\n",
    "- categories: [Coding]\n",
    "---"
   ]
  },
  {
   "cell_type": "markdown",
   "metadata": {},
   "source": [
    "# Notes\n",
    "- My test will be on Actors in Movies\n",
    "- The code On Event will be used for most of everything that we do\n",
    "- We will be using the term score for the questions we get right, and the ones we get wrong\n",
   "\n",
    "# What my questions will be:\n",
    "-Which actor plays Iron man?
    "-Which actor plays Captain America?
    "-Which actor plays Black Panther?
    "\n",
    "## "
   ]
  }
 ],
 "metadata": {
  "language_info": {
   "name": "python"
  },
  "orig_nbformat": 4
 },
 "nbformat": 4,
 "nbformat_minor": 2
}
