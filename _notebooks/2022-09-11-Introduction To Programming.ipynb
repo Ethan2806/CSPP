{
 "cells": [
  {
   "cell_type": "markdown",
   "metadata": {},
   "source": [
    "# Introduction To Programming\n",
    "> My Introduction To Programing In App Lab.\n",
    "\n",
    "- title: Introduction To Programming\n",
    "- toc: true\n",
    "- categories: [Markdown]\n",
    "- tags: "
   ]
  },
  {
   "cell_type": "markdown",
   "metadata": {},
   "source": [
    "## Questions that I decided to use\n",
    "The topic I chose to make my quiz on was to list a few movies and test the student on which actor played the role that I named.\n",
    "\n",
    "Who played Iron Man? \n",
    "Answer Choices: Robert Downey Jr., Dwayne Johnson, Kevin Hart, Tom Holland.\n",
    "\n",
    "Who plays Captain America? \n",
    "Answer Choices: Lebron James, Tom Cruise, Chris Evans, Jeremy Renner\",
    "\n",
    "Who plays Black Panther? \n",
    "Answer Choices: Chadwick Boseman, Daniel Kuluuya, Tenoch Huerta, Winston Duke\n"
