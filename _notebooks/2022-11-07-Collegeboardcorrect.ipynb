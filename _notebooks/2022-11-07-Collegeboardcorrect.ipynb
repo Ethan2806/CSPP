{
 "cells": [
  {
   "cell_type": "markdown",
   "metadata": {},
   "source": [
    "# # Questions Missed \n",
    "-My score was 42/50 and the questions I missed were the following : #12, #28, #35, #40, #43, #44, #49, #50\n",
    "\n",
    "# Corrections\n",
    "\n",
    "# 12\n",
    " A student is creating an application that allows customers to order food for delivery from a local restaurant. Which of the following is LEAST likely to be an input provided by a customer using the application? \n",
    "\n",
    "Answer I picked : The credit card or payment information for the purchaser \n",
    "Correct Answer : The cost of a food item currently available for order \n",
    "\n",
    "-The input that should least likely be provided is the cost of a food item currently available for the order because the price of the food is already listed on the delivery website and it shouldn’t be an input because they already know the price.\n",
    "\n",
    "# 28 \n",
    "The cost of a customer’s electricity bill is based on the number of units of electricity the customer uses.\n",
    "\n",
    "For the first 25 units of electricity, the cost is $5 per unit.\n",
    "For units of electricity after the first 25, the cost is $7 per unit.\n",
    "Which of the following code segments correctly sets the value of the variable cost to the cost, in dollars, of using numUnits units of electricity?\n",
    "\n",
    "![image](https://user-images.githubusercontent.com/111910633/200400911-e0be2d04-9505-41d9-a3b5-9c326c37ebe9.png)\n",
    "\n",
    "-I picked D and the answer was C, the explanation for this is because the code charges the customers who use more than 25 units sof electricity and customers are only charged $7 for the first 25 units but $5 for each subsequent unit. (32-5=7 units).\n",
    "\n",
    "# 35\n",
    "In a certain video game, the variable maxPS represents the maximum possible score a player can earn. The maximum possible score depends on the time it takes the player to complete the game. The value of maxPS should be 30 if time is greater than 120 and 50 otherwise.\n",
    "\n",
    "Which of the following code segments correctly sets the value of maxPS based on the value of time ?\n",
    "\n",
    "Select two answers.\n",
    "\n",
    "![image](https://user-images.githubusercontent.com/111910633/200404117-e3edb013-549e-43f5-a98c-8d5fc6f6f9d4.png)\n",
    "\n",
    "-I selected D and B.  The correct answer was A and D so I got 1/2 on this question.  Answer B was incorrect because it sets maxPS to 50 but it didn't include the value fo time in it which makes it wrong. The correct answer instead of this was A because the maxPS was set to 50 on top, and not the bottom.\n",
    "\n",
    "# 40\n",
    "![image](https://user-images.githubusercontent.com/111910633/200404626-7fd465f1-722b-4218-b926-f4f9dc54135a.png)\n",
    "\n",
    "\n",
    "I selected that nothing will be displayed but that was wrong because no matter what values are plugged in for the variables given, there will always be something shown.  The answer is -2 because since 3 is less than 5, the program will print 3-5=-2.\n",
    "\n",
    "# 43\n",
    "![image](https://user-images.githubusercontent.com/111910633/200406087-0bc44bcd-db5c-4cff-a5ef-3a4c9a72baac.png)\n",
    "\n",
    "I picked answer D, which was 21 and it is incorrect because everytime, the value is getting added by 6.  The answer is not 21 because it would have to be looped again and it wouldn't add up to 15.  The correct answer is 15.\n",
    "\n",
    "# 44\n",
    "![image](https://user-images.githubusercontent.com/111910633/200416175-0d53ca73-4063-4e23-bb58-048b28aad8fd.png)\n",
    "\n",
    "\n",
    "I chose 2, when the correct answer is 3 because 23 is divided by 3 is 2 and 23 MOD 3 = 2\n",
    "\n",
    "# 49\n",
    "\n",
    "![image](https://user-images.githubusercontent.com/111910633/200418771-8aabe019-b9ff-4935-9325-efc1dda1cf5f.png)\n",
    "\n",
    "I chose the answer B, and the code will execute and produce the words in reverse, therefore making it produce the word \"onon\".  The correct answer is C because it produces the word No first, then produces on after which is No in reverse.  Therefore creating the word noon.\n",
    "\n",
    "# 50 \n",
    "![image](https://user-images.githubusercontent.com/111910633/200420115-f3248e1e-bdba-4b69-a753-c651a3c73f0f.png)\n",
    "\n",
    "I chose answer D, which was incorrect and it was incorrect because it assigns the first two characters of the result to the initials which isn't supposed to happen, whereas option A,  it correctly forms the initials because it calls to obtain the first letters of each name and bputs it in the correct order.\n"
   ]
  }
 ],
 "metadata": {
  "kernelspec": {
   "display_name": "Python 3.8.10 64-bit",
   "language": "python",
   "name": "python3"
  },
  "language_info": {
   "name": "python",
   "version": "3.8.10"
  },
  "orig_nbformat": 4,
  "vscode": {
   "interpreter": {
    "hash": "916dbcbb3f70747c44a77c7bcd40155683ae19c65e1c03b4aa3499c5328201f1"
   }
  }
 },
 "nbformat": 4,
 "nbformat_minor": 2
}
