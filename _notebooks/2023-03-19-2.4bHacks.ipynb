{
 "cells": [
  {
   "attachments": {},
   "cell_type": "markdown",
   "metadata": {},
   "source": [
    "# Create Table"
   ]
  },
  {
   "cell_type": "code",
   "execution_count": 2,
   "metadata": {},
   "outputs": [],
   "source": [
    "import sqlite3 \n",
    "\n",
    "def create_connection(db): \n",
    "    connection = None\n",
    "    try: \n",
    "        connection = sqlite3.connect(db)\n",
    "        return connection \n",
    "    except Error as e: \n",
    "        print(e)\n",
    "    return connection \n",
    "\n",
    "def create_table(connection, createTblSql): \n",
    "    try: \n",
    "        cursor = connection.cursor()\n",
    "        cursor.execute(createTblSql)\n",
    "    except Error as e: \n",
    "        print(e)\n",
    "\n",
    "def main(): \n",
    "    database = 'instance/photos.db'\n",
    "\n",
    "    createTblSql = \"\"\" CREATE TABLE IF NOT EXISTS Games (\n",
    "                                        _id integer PRIMARY KEY,\n",
    "                                        _photo text NOT NULL,\n",
    "                                        _x integer NOT NULL,\n",
    "                                        _y integer NOT NULL,\n",
    "                                        _difficulty text NOT NULL\n",
    "                                    ); \"\"\"\n",
    "    connection = create_connection(database)\n",
    "\n",
    "    # create games table\n",
    "    if connection is not None:\n",
    "        create_table(connection, createTblSql)\n",
    "    else:\n",
    "        print('Connection Error')\n",
    "\n",
    "\n",
    "if __name__ == '__main__':\n",
    "    main()"
   ]
  },
  {
   "attachments": {},
   "cell_type": "markdown",
   "metadata": {},
   "source": [
    "# Create Database "
   ]
  },
  {
   "cell_type": "code",
   "execution_count": 11,
   "metadata": {},
   "outputs": [
    {
     "name": "stdout",
     "output_type": "stream",
     "text": [
      "New game Retro is added to your database.\n"
     ]
    }
   ],
   "source": [
    "def create():\n",
    "    database = 'instance/games.db'\n",
    "    name = input(\"Enter your name\")\n",
    "    age = input(\"Enter your age\")\n",
    "    game = input(\"Enter your favorite game\")\n",
    "    console = input(\"Enter the console you play on\")\n",
    "\n",
    "    # Connecting to the database, create cursor to execute the SQL command\n",
    "    connection = sqlite3.connect(database)\n",
    "    cursor = connection.cursor()\n",
    "\n",
    "    try:\n",
    "        # Execute SQL to insert record in to db\n",
    "        cursor.execute(\"INSERT INTO games (_name, _age, _game, _console) VALUES (?, ?, ?, ?)\", (name, age, game, console))\n",
    "        # Commit the changes\n",
    "        connection.commit()\n",
    "        print(f\"New game {game} is added to your database.\")\n",
    "                \n",
    "    except sqlite3.Error as error:\n",
    "        print(\"Error while inserting game\", error)\n",
    "\n",
    "    # Closing cursor and connection\n",
    "    cursor.close()\n",
    "    connection.close()\n",
    "    \n",
    "create()"
   ]
  },
  {
   "attachments": {},
   "cell_type": "markdown",
   "metadata": {},
   "source": [
    "# Read database"
   ]
  },
  {
   "cell_type": "code",
   "execution_count": 7,
   "metadata": {},
   "outputs": [
    {
     "name": "stdout",
     "output_type": "stream",
     "text": [
      "(2, 'Liav Bar', '16', 'Clash Of Clans', 'iPhone')\n",
      "(3, 'Bhargav Bhadri', '16', 'Valorant', 'PC')\n",
      "(4, 'Brendan Trinh', '19', 'Minecraft', 'PS4')\n",
      "(5, 'Ethan', '16', 'Valorant', 'PC')\n"
     ]
    }
   ],
   "source": [
    "def read():\n",
    "\n",
    "    database = 'instance/games.db'\n",
    "    # Connecting to the database, create cursor to execute the SQL command\n",
    "    connection = sqlite3.connect(database)\n",
    "    cursor = connection.cursor()\n",
    "    \n",
    "    # Fetch all the records from books table\n",
    "    results = cursor.execute('SELECT * FROM games').fetchall()\n",
    "\n",
    "    if len(results) != 0:\n",
    "        for row in results:\n",
    "            print(row)\n",
    "    else:\n",
    "        print(\"No Games In Your Database\")\n",
    "\n",
    "    # Closing cursor and connection\n",
    "    cursor.close()\n",
    "    connection.close()\n",
    "\n",
    "read()"
   ]
  },
  {
   "attachments": {},
   "cell_type": "markdown",
   "metadata": {},
   "source": [
    "# Update "
   ]
  },
  {
   "cell_type": "code",
   "execution_count": 5,
   "metadata": {},
   "outputs": [
    {
     "name": "stdout",
     "output_type": "stream",
     "text": [
      "Review for the game is updated to Valorant\n"
     ]
    }
   ],
   "source": [
    "import sqlite3\n",
    "\n",
    "# updating review\n",
    "def update():  \n",
    "    \n",
    "    database = 'instance/games.db'\n",
    "    name = input(\"Enter your name to update your new favorite game\")\n",
    "    game = input(\"Enter new game\")\n",
    "\n",
    "   # Connecting to the database, create cursor to execute the SQL command\n",
    "    connection = sqlite3.connect(database)\n",
    "    cursor = connection.cursor()\n",
    "\n",
    "    try:\n",
    "        # Updating review for the book\n",
    "        cursor.execute(\"UPDATE games SET _game = ? WHERE _name = ?\", (game, name))\n",
    "        if cursor.rowcount != 0:\n",
    "            print(f\"Review for the game is updated to {game}\")\n",
    "            connection.commit()\n",
    "        else:\n",
    "            print(f\"Name not found\")\n",
    "    except sqlite3.Error as error:\n",
    "        print(\"Error occurred\", error)\n",
    "        \n",
    "    # Closing cursor and connection\n",
    "    cursor.close()\n",
    "    connection.close()\n",
    "\n",
    "\n",
    "update()"
   ]
  },
  {
   "attachments": {},
   "cell_type": "markdown",
   "metadata": {},
   "source": [
    "# Delete"
   ]
  },
  {
   "cell_type": "code",
   "execution_count": 12,
   "metadata": {},
   "outputs": [
    {
     "name": "stdout",
     "output_type": "stream",
     "text": [
      "Successfully deleted game with name \n"
     ]
    }
   ],
   "source": [
    "import sqlite3\n",
    "\n",
    "def delete():\n",
    "    \n",
    "    database = 'instance/games.db'\n",
    "    name = input(\"Enter FULL NAME to delete\")\n",
    "\n",
    "    # Connecting to the database, create cursor to execute the SQL command\n",
    "    connection = sqlite3.connect(database)\n",
    "    cursor = connection.cursor()\n",
    "    \n",
    "    try:\n",
    "        cursor.execute(\"DELETE FROM games WHERE _name = ?\", (name,))\n",
    "        if cursor.rowcount == 0:\n",
    "            print(f\"{name} does not exist\")\n",
    "        else:\n",
    "            print(f\"Successfully deleted game with name {name}\")\n",
    "        connection.commit()\n",
    "    except sqlite3.Error as error:\n",
    "        print(\"Error occurred: \", error)\n",
    "        \n",
    "    # Closing cursor and connection\n",
    "    cursor.close()\n",
    "    connection.close()\n",
    "\n",
    "delete()"
   ]
  }
 ],
 "metadata": {
  "kernelspec": {
   "display_name": "base",
   "language": "python",
   "name": "python3"
  },
  "language_info": {
   "codemirror_mode": {
    "name": "ipython",
    "version": 3
   },
   "file_extension": ".py",
   "mimetype": "text/x-python",
   "name": "python",
   "nbconvert_exporter": "python",
   "pygments_lexer": "ipython3",
   "version": "3.9.12"
  },
  "orig_nbformat": 4
 },
 "nbformat": 4,
 "nbformat_minor": 2
}
