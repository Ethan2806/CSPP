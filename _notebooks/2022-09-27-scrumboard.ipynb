{
 "cells": [
  {
   "cell_type": "markdown",
   "metadata": {},
   "source": [
    "# Scrum Team Outline\n",
    "\n",
    "- toc: false \n",
    "- badges: true\n",
    "- comments: true\n",
    "- categories: [jupyter]"
   ]
  },
  {
   "cell_type": "markdown",
   "metadata": {},
   "source": [
    "## Scrum Team Roles\n",
    "My team and I decided on the following roles:\n",
    "\n",
    "- Jeffrey: Scrum Master\n",
    "- Luke: DevOps\n",
    "- Ethan: Frontend Developer\n",
    "- James: Backend Developer\n",
    "\n",
    "As front end developer, I will make sure my team's website is looking good visually.  My team will count on me for that because the front end developer's job is to make the website look visually good."
   ]
  },
  {
   "cell_type": "markdown",
   "metadata": {},
   "source": [
    "The website will have a sports theme in the front page with my design.\n",
    "\n"
   ]
  }
 ],
 "metadata": {
  "kernelspec": {
   "display_name": "Python 3.8.10 64-bit",
   "language": "python",
   "name": "python3"
  },
  "language_info": {
   "name": "python",
   "version": "3.8.10"
  },
  "orig_nbformat": 4,
  "vscode": {
   "interpreter": {
    "hash": "916dbcbb3f70747c44a77c7bcd40155683ae19c65e1c03b4aa3499c5328201f1"
   }
  }
 },
 "nbformat": 4,
 "nbformat_minor": 2
}
