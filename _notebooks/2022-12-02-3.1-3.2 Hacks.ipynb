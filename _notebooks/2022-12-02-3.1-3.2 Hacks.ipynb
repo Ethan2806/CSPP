{
 "cells": [
  {
   "cell_type": "markdown",
   "metadata": {},
   "source": [
    "# Data Abstracation"
   ]
  },
  {
   "cell_type": "code",
   "execution_count": 4,
   "metadata": {},
   "outputs": [
    {
     "name": "stdout",
     "output_type": "stream",
     "text": [
      "green\n",
      "red\n",
      "pink\n",
      "purple\n",
      "blue\n",
      "brown\n"
     ]
    }
   ],
   "source": [
    "colorsList = [\"green\", \"red\", \"pink\", \"purple\", \"blue\", \"brown\"] # creating a index d\n",
    "for i in colorsList: # recalling the indexes \n",
    "    print(i) # prints them "
   ]
  },
  {
   "cell_type": "markdown",
   "metadata": {},
   "source": [
    "# Changing Values"
   ]
  },
  {
   "cell_type": "code",
   "execution_count": 8,
   "metadata": {},
   "outputs": [
    {
     "name": "stdout",
     "output_type": "stream",
     "text": [
      "9\n",
      "9\n"
     ]
    }
   ],
   "source": [
    "num1 = 5\n",
    "num2 = 9\n",
    "num1 = num2\n",
    "\n",
    "print(num1)\n",
    "print(num2)"
   ]
  },
  {
   "cell_type": "code",
   "execution_count": 9,
   "metadata": {},
   "outputs": [
    {
     "name": "stdout",
     "output_type": "stream",
     "text": [
      "42\n",
      "42\n",
      "15\n"
     ]
    }
   ],
   "source": [
    "num1 = 15\n",
    "num2 = 25\n",
    "num3 = 42\n",
    "num2 = num3\n",
    "num3 = num1\n",
    "num1 = num2\n",
    "\n",
    "print(num1)\n",
    "print(num2)\n",
    "print(num3)"
   ]
  },
  {
   "cell_type": "code",
   "execution_count": 10,
   "metadata": {},
   "outputs": [
    {
     "name": "stdout",
     "output_type": "stream",
     "text": [
      "42\n",
      "84\n",
      "4284\n",
      "126\n"
     ]
    }
   ],
   "source": [
    "num2 += num1\n",
    "print(num1)\n",
    "print(num2)\n",
    "\n",
    "print(str(num1)+ str(num2))\n",
    "print(num1 + num2)"
   ]
  },
  {
   "cell_type": "code",
   "execution_count": 11,
   "metadata": {},
   "outputs": [
    {
     "name": "stdout",
     "output_type": "stream",
     "text": [
      "What team is Lebron James on?\n",
      "\n",
      "Correct! Score: \n",
      "0\n",
      "4\n",
      "Who won the 2022 NBA Championship?\n",
      "\n",
      "Correct! Score: \n",
      "1\n",
      "4\n",
      "Who is the best player on the Mavericks?\n",
      "\n",
      "Correct! Score: \n",
      "2\n",
      "4\n",
      "Who is the best 3 point shooter in the NBA?\n",
      "\n",
      "Incorrect! The correct answer was Stephen Cury\n",
      "\n",
      "3\n",
      "4\n"
     ]
    }
   ],
   "source": [
    "quesCount = 0\n",
    "score = 0\n",
    "\n",
    "# Use a dictionary for the questions\n",
    "quesList = [\"What team is Lebron James on?\", \"Who won the 2022 NBA Championship?\",\"Who is the best player on the Mavericks?\",\"Who is the best 3 point shooter in the NBA?\"]\n",
    "\n",
    "# Use a dictionary for the correct solutions\n",
    "soluList = [\"Lakers\", \"Golden State Warriors\", \"Luka Doncic\", \"Stephen Curry\"]\n",
    "\n",
    "quesAmount= len(quesList)\n",
    "\n",
    "while quesCount < quesAmount:\n",
    "    print(quesList[quesCount] + \"\\n\")\n",
    "    guess = input()\n",
    "    if(guess == soluList[quesCount]):\n",
    "        score += 1\n",
    "        print(\"Correct! Score: \")\n",
    "    else: \n",
    "        print(\"Incorrect! The correct answer was \" + soluList[quesCount] + \"\\n\")\n",
    "    print(quesCount)\n",
    "    print(quesAmount)\n",
    "    quesCount += 1"
   ]
  }
 ],
 "metadata": {
  "kernelspec": {
   "display_name": "Python 3.8.10 64-bit",
   "language": "python",
   "name": "python3"
  },
  "language_info": {
   "codemirror_mode": {
    "name": "ipython",
    "version": 3
   },
   "file_extension": ".py",
   "mimetype": "text/x-python",
   "name": "python",
   "nbconvert_exporter": "python",
   "pygments_lexer": "ipython3",
   "version": "3.8.10"
  },
  "orig_nbformat": 4,
  "vscode": {
   "interpreter": {
    "hash": "916dbcbb3f70747c44a77c7bcd40155683ae19c65e1c03b4aa3499c5328201f1"
   }
  }
 },
 "nbformat": 4,
 "nbformat_minor": 2
}
