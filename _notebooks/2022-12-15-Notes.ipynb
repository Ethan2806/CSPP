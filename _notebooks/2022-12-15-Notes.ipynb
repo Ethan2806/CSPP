{
 "cells": [
  {
   "attachments": {},
   "cell_type": "markdown",
   "metadata": {},
   "source": [
    "# Lists\n",
    "## What are lists?\n",
    "Lists: a sequence of variables\n",
    "- we can use lists to store multiple items into one variable\n",
    "- used to store collections of data\n",
    "- changeable, ordered, allow duplicates"
   ]
  },
  {
   "attachments": {},
   "cell_type": "markdown",
   "metadata": {},
   "source": [
    "# Binary Search\n",
    "\n",
    "What is Binary Search?\n",
    "- Binary search is a search algorithm that finds the position of a target value within a sorted array. Binary search compares the target value to the middle element of the array. \n",
    "- An algorithm for iterating to find a value inside a data set\n",
    "- Binary search compares the target value to the middle element of the array. An algorithm for iterating to find a value inside a data set\n"
   ]
  },
  {
   "cell_type": "code",
   "execution_count": 1,
   "metadata": {},
   "outputs": [
    {
     "name": "stdout",
     "output_type": "stream",
     "text": [
      "Element is present at index 1\n"
     ]
    }
   ],
   "source": [
    "def BinarySearch(array, x, low, high):\n",
    "\n",
    "    # Repeat until the pointers low and high meet each other \n",
    "    while low <= high:\n",
    "\n",
    "        mid = low + (high - low)//2 # find the middle (taking the higest index number plus the lowest and divided by two)\n",
    "\n",
    "        if array[mid] == x: # if desired number is the middle is found return desired number (middle number) \n",
    "            return mid\n",
    "\n",
    "        elif array[mid] < x: \n",
    "            low = mid + 1\n",
    "\n",
    "        else:\n",
    "            high = mid - 1\n",
    "\n",
    "    return -1\n",
    "\n",
    "\n",
    "array = [3, 4, 5, 6, 7, 8, 9]\n",
    "x = 4\n",
    "\n",
    "result = BinarySearch(array, x, 0, len(array)-1)\n",
    "\n",
    "if result != -1:\n",
    "    print(\"Element is present at index \" + str(result))\n",
    "else:\n",
    "    print(\"Not found\")"
   ]
  },
  {
   "attachments": {},
   "cell_type": "markdown",
   "metadata": {},
   "source": [
    "# Data Abstraction \n",
    "\n",
    "-Method used in coding to represent data in a useful form, by taking away aspects of data that aren't being used in the situation\n",
    "-Variables and lists are primary tools in data abstraction\n",
    "-Provides a separation between the abstract properties of a data type and the concrete details of its representation"
   ]
  },
  {
   "cell_type": "code",
   "execution_count": null,
   "metadata": {},
   "outputs": [],
   "source": [
    "# Examples of Variables and Data \n",
    "\n",
    "quesCount = 0\n",
    "score = 0\n",
    "\n",
    "# Use a dictionary for the questions\n",
    "quesList = [\"What team is Lebron James on?\", \"Who won the 2022 NBA Championship?\",\"Who is the best player on the Mavericks?\",\"Who is the best 3 point shooter in the NBA?\"]\n",
    "\n",
    "# Use a dictionary for the correct solutions\n",
    "soluList = [\"Lakers\", \"Golden State Warriors\", \"Luka Doncic\", \"Stephen Curry\"]\n",
    "\n",
    "quesAmount= len(quesList)\n",
    "\n",
    "while quesCount < quesAmount:\n",
    "    print(quesList[quesCount] + \"\\n\")\n",
    "    guess = input()\n",
    "    if(guess == soluList[quesCount]):\n",
    "        score += 1\n",
    "        print(\"Correct! Score: \")\n",
    "    else: \n",
    "        print(\"Incorrect! The correct answer was \" + soluList[quesCount] + \"\\n\")\n",
    "    print(quesCount)\n",
    "    print(quesAmount)\n",
    "    quesCount += 1"
   ]
  },
  {
   "attachments": {},
   "cell_type": "markdown",
   "metadata": {},
   "source": [
    "# Procedures\n",
    "\n",
    "- A procedure is a named group of programming instructions that may have parameters and return values.\n",
    "- Procedures are referred to by different names, such as method or function, depending on the programing language.\n",
    "- Parameters are input values of a procedure. Arguments specify the values of the parameters when procedure is called.\n",
    "- A procedure call interrupts the sequential execution of statements causing the program to execute the statements within the procedure before continuing. One the last statement in the procedure (or a return statement) has executed, flow or control is returned to the point immediately following where the procedure was called."
   ]
  },
  {
   "cell_type": "code",
   "execution_count": null,
   "metadata": {},
   "outputs": [],
   "source": [
    "def convertFahrenheit(temperature):\n",
    "    celsius = temperature - 32\n",
    "    celsius = celsius * 5 / 9\n",
    "    return celsius\n",
    "\n",
    "\n",
    "outsideTemp = input(\"What is the temperature Outside?\")\n",
    "print(convertFahrenheit(int(outsideTemp)))"
   ]
  },
  {
   "attachments": {},
   "cell_type": "markdown",
   "metadata": {},
   "source": [
    "# Data Types\n",
    "-String (or str or text) - combination of any characters\n",
    "-Character (or char) - single letters\n",
    "-Integer (or int) - whole numbers\n",
    "-Float (or Real) - numbers that contain decimal points, or for fractions.\n",
    "-Boolean (or bool) - data is restricted to True/False or yes/no options"
   ]
  },
  {
   "cell_type": "code",
   "execution_count": null,
   "metadata": {},
   "outputs": [],
   "source": [
    "brands = [\"baseball\", \"soccer\", \"basketball\"] #string\n",
    "numbers = [1, 2, 3, 4, 5] #integer\n",
    "truefalse = [True, False, True] #boolean"
   ]
  },
  {
   "attachments": {},
   "cell_type": "markdown",
   "metadata": {},
   "source": [
    "# If else conditional statements\n",
    " - Can be seen as if statements or if blocks\n",
    "\n",
    "- Can also be seen as if else statements or if else-blocks\n"
   ]
  },
  {
   "cell_type": "code",
   "execution_count": null,
   "metadata": {},
   "outputs": [],
   "source": [
    "num1 = 100\n",
    "num2 = 44\n",
    "sum = num1 + num2\n",
    "if sum == 200:\n",
    "    {\n",
    "    print(200)\n",
    "    }\n",
    "else:\n",
    "    {\n",
    "    print(sum)\n",
    "}\n"
   ]
  },
  {
   "attachments": {},
   "cell_type": "markdown",
   "metadata": {},
   "source": [
    "# What is a simulation?\n",
    "- A simulation is a tested scenario used for viewing results/outputs to prepare for them in real world situations\n",
    "- These can be used for games like dice rolling, spinners, etc\n",
    "- These can be used for practical things such as building structures, testing car crashes, and other things before engaging in them in the real world\n",
    "- These simulations can have the option of obeying real world physics (Gravity, collision) or they can go against these norms since this is a fictitious scenario, and couldn't happen in real life"
   ]
  },
  {
   "cell_type": "code",
   "execution_count": null,
   "metadata": {},
   "outputs": [],
   "source": [
    "# The ball is initially 20 units above the ground\n",
    "pos = 20\n",
    "\n",
    "# The ball is initially moving upwards at a velocity of 30 units/second\n",
    "vel = 30\n",
    "\n",
    "# The acceleration due to gravity is 5.5 units/second^2 downwards\n",
    "g = -5.5\n",
    "\n",
    "# We will update the position of the ball every 0.2 seconds\n",
    "dt = 0.2\n",
    "\n",
    "# Keep track of the time\n",
    "time = 0\n",
    "\n",
    "# Main loop of the simulation\n",
    "while True:\n",
    "    # Update the position of the ball\n",
    "    pos = pos + vel * dt\n",
    "\n",
    "    # Update the velocity of the ball\n",
    "    vel = vel + g * dt\n",
    "\n",
    "    # If the ball hits the ground, reverse its direction\n",
    "    if pos <= 0:\n",
    "        vel = -vel\n",
    "\n",
    "    # Increment the time by the timestep\n",
    "    time = time + dt\n",
    "\n",
    "    # Print the current position and velocity of the ball\n",
    "    print(f\"Time: {time:.1f} s | Position: {pos:.1f} units | Velocity: {vel:.1f} units/s\")\n",
    "\n",
    "    # End the simulation after 10 seconds\n",
    "    if time >= 10:\n",
    "        break\n"
   ]
  },
  {
   "attachments": {},
   "cell_type": "markdown",
   "metadata": {},
   "source": [
    "# An example of changing values"
   ]
  },
  {
   "cell_type": "code",
   "execution_count": null,
   "metadata": {},
   "outputs": [],
   "source": [
    "currentScore = 10\n",
    "highScore = currentScore\n",
    "currentScore = 7\n",
    "print(highScore)\n",
    "10"
   ]
  },
  {
   "attachments": {},
   "cell_type": "markdown",
   "metadata": {},
   "source": [
    " # Iteration\n",
    "Iteration refers to the repetition of a process, and there are two types: indefinite and definite. In a definite iteration, it is clear how many times the loop will run, while in an indefinite iteration, the number of times the loop will run is not specified. For loops and while loops are examples of iteration. An object is considered iterable if it can be used in an iteration, and the built-in function 'iter()' returns an iterator for an object. Some common examples of iterable objects include strings, lists, dictionaries, sets, and tuples. The break statement can be used to stop a loop prematurely."
   ]
  },
  {
   "cell_type": "code",
   "execution_count": null,
   "metadata": {},
   "outputs": [],
   "source": [
    "words = [\"alfa\", \"bravo\", \"charlie\", \"delta\", \"echo\", \"foxtrot\", \"golf\", \"hotel\", \"india\", \"juliett\", \"kilo\",\n",
    "\"lima\", \"mike\", \"november\", \"oscar\", \"papa\", \"quebec\", \"romeo\", \"sierra\", \"tango\", \"uniform\", \"victor\", \"whiskey\", \"xray\", \"yankee\", \"zulu\"]\n",
    "\n",
    "inp = input().lower()\n",
    "alpha = [\"a\",\"b\",\"c\",\"d\",\"e\",\"f\",\"g\",\"h\",\"i\",\"j\",\"k\",\"l\",\"m\",\"n\",\"o\",\"p\",\"q\",\"r\",\"s\",\"t\",\"u\",\"v\",\"w\",\"x\",\"y\",\"z\"]\n",
    "\n",
    "for i in words:\n",
    "    print(inp)"
   ]
  },
  {
   "attachments": {},
   "cell_type": "markdown",
   "metadata": {},
   "source": [
    "# Procedures\n",
    "\n",
    "A procedure, also known as a method or function, is a group of programming instructions that can accept input values (called parameters) and may return a value or perform a specific task. When a procedure is called, the program execution is temporarily interrupted and the statements within the procedure are executed before control is returned to the point where the procedure was called. It is important to note whether a procedure returns data or simply performs a block of statements. If it returns data, the value can be stored in a variable. For example, in Python, we can define a procedure named \"convertFahrenheit\" that converts temperature from Fahrenheit to Celsius. The pseudocode for this procedure might look like this:"
   ]
  },
  {
   "cell_type": "code",
   "execution_count": null,
   "metadata": {},
   "outputs": [],
   "source": [
    "def convertFahrenheit(temp_fahrenheit):\n",
    "  temp_celsius = (temp_fahrenheit - 32) * (5/9)\n",
    "  return temp_celsius\n",
    "\n",
    "temp_outside_fahrenheit = 72\n",
    "temp_outside_celsius = convertFahrenheit(temp_outside_fahrenheit)\n",
    "\n",
    "print(temp_outside_celsius)\n"
   ]
  }
 ],
 "metadata": {
  "kernelspec": {
   "display_name": "Python 3.8.10 64-bit",
   "language": "python",
   "name": "python3"
  },
  "language_info": {
   "codemirror_mode": {
    "name": "ipython",
    "version": 3
   },
   "file_extension": ".py",
   "mimetype": "text/x-python",
   "name": "python",
   "nbconvert_exporter": "python",
   "pygments_lexer": "ipython3",
   "version": "3.8.10"
  },
  "orig_nbformat": 4,
  "vscode": {
   "interpreter": {
    "hash": "916dbcbb3f70747c44a77c7bcd40155683ae19c65e1c03b4aa3499c5328201f1"
   }
  }
 },
 "nbformat": 4,
 "nbformat_minor": 2
}
