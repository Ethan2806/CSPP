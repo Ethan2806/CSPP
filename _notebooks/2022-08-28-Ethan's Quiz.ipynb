{
 "cells": [
  {
   "cell_type": "markdown",
   "metadata": {},
   "source": [
    "---\n",
    "toc: true\n",
    "layout: post\n",
    "description: Ethan's Python Quiz questions\n",
    "categories: [markdown]\n",
    "title: Python Quiz\n",
    "---\n",
    "\n",
    "# Python Quiz\n",
    "> A display of the Python Quiz"
   ]
  },
  {
   "cell_type": "code",
   "execution_count": 1,
   "metadata": {},
   "outputs": [
    {
     "name": "stdout",
     "output_type": "stream",
     "text": [
      "Hello, Ethan2806 running c:\\Users\\Ethan2806\\anaconda3 2\\python.exe\n",
      "You will be asked 4 questions.\n",
      "Question: Are you ready to take a test?\n",
      "Question: What team has the theme color of Purple and Yellow?\n",
      "Lakers is correct!\n",
      "Question: Who is the best player on the Lakers?\n",
      "Lebron James is correct!\n",
      "Question: What is the line on the side of the court called?\n",
      "Sideline is correct!\n",
      "Question: What do you shoot when you get fouled?\n",
      "Free Throws is correct!\n",
      "Ethan2806 you scored 4/4\n"
     ]
    }
   ],
   "source": [
    "## Python Quiz:\n",
    "\n",
    "import getpass, sys\n",
    "\n",
    "def question_with_response(prompt):\n",
    "    print(\"Question: \" + prompt)\n",
    "    msg = input()\n",
    "    return msg\n",
    "\n",
    "questions = 4\n",
    "correct = 0\n",
    "\n",
    "print('Hello, ' + getpass.getuser() + \" running \" + sys.executable)\n",
    "print(\"You will be asked \" + str(questions) + \" questions.\")\n",
    "question_with_response(\"Are you ready to take a test?\")\n",
    "\n",
    "rsp = question_with_response(\"What does the NBA stand for?\")\n",
    "if rsp == \"National Basketball Association\":\n",
    "    print(rsp + \" is correct!\")\n",
    "    correct += 1\n",
    "else:\n",
    "    print(rsp + \" is incorrect!\")\n",
    "\n",
    "rsp = question_with_response(\"What team has the theme color of Purple and Yellow?\")\n",
    "if rsp == \"Lakers\":\n",
    "    print(rsp + \" is correct!\")\n",
    "    correct += 1\n",
    "else:\n",
    "    print(rsp + \" is incorrect!\")\n",
    "\n",
    "rsp = question_with_response(\"Who is the best player on the Lakers?\")\n",
    "if rsp == \"Lebron James\":\n",
    "    print(rsp + \" is correct!\")\n",
    "    correct += 1\n",
    "else:\n",
    "    print(rsp + \" is incorrect!\")\n",
    "\n",
    "rsp = question_with_response(\"What is the line on the side of the court called?'\")\n",
    "if rsp == \"Sideline\":\n",
    "    print(rsp + \" is correct!\")\n",
    "    correct += 1\n",
    "else:\n",
    "    print(rsp + \" is incorrect!\")  \n",
    "\n",
    "rsp = question_with_response(\"What do you shoot when you get fouled?'\")\n",
    "if rsp == \"Free Throws\":\n",
    "    print(rsp + \" is correct!\")\n",
    "    correct += 1\n",
    "print(getpass.getuser() + \" you scored \" + str(correct) +\"/\" + str(questions))"
   ]
  }
 ],
 "metadata": {
  "kernelspec": {
   "display_name": "Python 3.9.12 ('base')",
   "language": "python",
   "name": "python3"
  },
  "language_info": {
   "codemirror_mode": {
    "name": "ipython",
    "version": 3
   },
   "file_extension": ".py",
   "mimetype": "text/x-python",
   "name": "python",
   "nbconvert_exporter": "python",
   "pygments_lexer": "ipython3",
   "version": "3.9.12"
  },
  "orig_nbformat": 4,
  "vscode": {
   "interpreter": {
    "hash": "9ad226fb37a9fe92963762e2f5cdd2c1c77b376a6660d6f587a643de3c6682f8"
   }
  }
 },
 "nbformat": 4,
 "nbformat_minor": 2
}
